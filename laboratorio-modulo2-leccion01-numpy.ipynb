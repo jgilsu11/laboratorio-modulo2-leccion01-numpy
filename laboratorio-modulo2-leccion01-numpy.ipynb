{
 "cells": [
  {
   "cell_type": "markdown",
   "id": "6db588db",
   "metadata": {},
   "source": [
    "<div style=\"text-align: center;\">\n",
    "  <img src=\"https://github.com/Hack-io-Data/Imagenes/blob/main/01-LogosHackio/logo_naranja@4x.png?raw=true\" alt=\"esquema\" />\n",
    "</div>"
   ]
  },
  {
   "cell_type": "markdown",
   "id": "11308d6c",
   "metadata": {},
   "source": [
    "\n",
    "# Laboratorio de NumPy"
   ]
  },
  {
   "cell_type": "markdown",
   "id": "a19d4596",
   "metadata": {},
   "source": [
    "#### Ejercicio 1 - Crea un array de 1D con los números del 0 al 9."
   ]
  },
  {
   "cell_type": "code",
   "execution_count": 10,
   "id": "9d4e1d42",
   "metadata": {},
   "outputs": [
    {
     "data": {
      "text/plain": [
       "array([0, 1, 2, 3, 4, 5, 6, 7, 8, 9])"
      ]
     },
     "execution_count": 10,
     "metadata": {},
     "output_type": "execute_result"
    }
   ],
   "source": [
    "import numpy as np\n",
    "\n",
    "lista= [0,1,2,3,4,5,6,7,8,9]\n",
    "\n",
    "array1D0_9=np.array(lista)\n",
    "array1D0_9"
   ]
  },
  {
   "cell_type": "markdown",
   "id": "f4a41f16",
   "metadata": {},
   "source": [
    "#### Ejercicio 2 - Convierte un array 1D en un array 2D con 2 filas y 5 columnas."
   ]
  },
  {
   "cell_type": "code",
   "execution_count": 12,
   "id": "3d7cef3c",
   "metadata": {},
   "outputs": [
    {
     "data": {
      "text/plain": [
       "array([[0, 1, 2, 3, 4],\n",
       "       [5, 6, 7, 8, 9]])"
      ]
     },
     "execution_count": 12,
     "metadata": {},
     "output_type": "execute_result"
    }
   ],
   "source": [
    "array2D0_9= array1D0_9.reshape(2,5)\n",
    "array2D0_9"
   ]
  },
  {
   "cell_type": "markdown",
   "id": "86bb8999",
   "metadata": {},
   "source": [
    "#### Ejercicio 3 - Encuentra los índices de los elementos con valor distinto de 0 en el siguiente array: [0, 2, 0, 3, 0, 4, 0]."
   ]
  },
  {
   "cell_type": "code",
   "execution_count": 13,
   "id": "d1fcfca4",
   "metadata": {},
   "outputs": [
    {
     "data": {
      "text/plain": [
       "(array([0, 0, 0, 0, 1, 1, 1, 1, 1]), array([1, 2, 3, 4, 0, 1, 2, 3, 4]))"
      ]
     },
     "execution_count": 13,
     "metadata": {},
     "output_type": "execute_result"
    }
   ],
   "source": [
    "np.where(array2D0_9 != 0)  #El primer array es la fila y el segundo la columna (porque es bidireccional (si fuera tri el primero matriz, fila y columna))"
   ]
  },
  {
   "cell_type": "markdown",
   "id": "1c548419",
   "metadata": {},
   "source": [
    "#### Ejercicio 4 - Crea un array 3x3 con valores aleatorios entre 0 y 1."
   ]
  },
  {
   "cell_type": "code",
   "execution_count": 41,
   "id": "54e8b9fd",
   "metadata": {},
   "outputs": [
    {
     "data": {
      "text/plain": [
       "array([[1, 0, 0],\n",
       "       [1, 1, 0],\n",
       "       [1, 0, 0]], dtype=int32)"
      ]
     },
     "execution_count": 41,
     "metadata": {},
     "output_type": "execute_result"
    }
   ],
   "source": [
    "np.random.randint(0, 2, (3,3))"
   ]
  },
  {
   "cell_type": "markdown",
   "id": "aee82811",
   "metadata": {},
   "source": [
    "#### Ejercicio 5 - Crea un array de 10 números aleatorios y encuentra el valor máximo y mínimo."
   ]
  },
  {
   "cell_type": "code",
   "execution_count": 51,
   "id": "81fea76e",
   "metadata": {},
   "outputs": [
    {
     "data": {
      "text/plain": [
       "np.int32(19)"
      ]
     },
     "execution_count": 51,
     "metadata": {},
     "output_type": "execute_result"
    }
   ],
   "source": [
    "np.random.randint(0, 21, 10 ).max()"
   ]
  },
  {
   "cell_type": "markdown",
   "id": "6559375b",
   "metadata": {},
   "source": [
    "#### Ejercicio 6 - Crea un array de una dimensión e inviértelo. "
   ]
  },
  {
   "cell_type": "code",
   "execution_count": null,
   "id": "a746e45b",
   "metadata": {},
   "outputs": [],
   "source": [
    "unidim= np.array([1,2,3,4,5,6,7,8,9,10])  #Como es unidimensional solo tiene fila (ni columna ni matriz)\n",
    "unidim[: : -1]   #Al poner -1 (En salto) hace que vaya desde el último al primero"
   ]
  },
  {
   "cell_type": "markdown",
   "id": "4457f046",
   "metadata": {},
   "source": [
    "\n",
    "#### Ejercicio 6 - Genera un array tridimensional de dimensiones (2, 3, 4) con valores enteros del 1 al 24.\n",
    "\n",
    "- Selecciona el primer `15` del array.\n",
    "\n",
    "- Selecciona todos los elementos del primer array. \n",
    "\n",
    "- Selecciona la última fila del último array\n"
   ]
  },
  {
   "cell_type": "code",
   "execution_count": 101,
   "id": "1dfece8f",
   "metadata": {},
   "outputs": [
    {
     "name": "stdout",
     "output_type": "stream",
     "text": [
      "[[[ 1  2  3  4]\n",
      "  [ 5  6  7  8]\n",
      "  [ 9 10 11 12]]\n",
      "\n",
      " [[13 14 15 16]\n",
      "  [17 18 19 20]\n",
      "  [21 22 23 24]]]\n",
      "15\n",
      "[[ 1  2  3  4]\n",
      " [ 5  6  7  8]\n",
      " [ 9 10 11 12]]\n",
      "[21 22 23 24]\n"
     ]
    }
   ],
   "source": [
    "lista= [[[1,2,3,4],[5,6,7,8],[9,10,11,12],],[[13,14,15,16],[17,18,19,20],[21,22,23,24]]]\n",
    "array_3d= np.array(lista)\n",
    "print(array_3d)\n",
    "\n",
    "print(array_3d[1, 0, 2])\n",
    "\n",
    "print(array_3d[0, :, :])\n",
    "\n",
    "print(array_3d[1, 2, :])"
   ]
  },
  {
   "cell_type": "markdown",
   "id": "681b7e4e",
   "metadata": {},
   "source": [
    "\n",
    "#### Ejercicio 7 - Genera un array tridimensional de dimensiones (3, 2, 5) con valores enteros del 1 al 30.\n",
    "\n",
    "- Selecciona el subarray que contiene los dos primeros elementos de cada fila del primer array.\n",
    "\n",
    "- Selecciona el subarray que contiene todas las filas de los dos últimos arrays.\n"
   ]
  },
  {
   "cell_type": "code",
   "execution_count": 114,
   "id": "b008a9aa",
   "metadata": {},
   "outputs": [
    {
     "name": "stdout",
     "output_type": "stream",
     "text": [
      "[[[ 3 11 12 25  1]\n",
      "  [21 20 19  3 18]]\n",
      "\n",
      " [[ 1 14  8 19  2]\n",
      "  [14  1  1  2 24]]\n",
      "\n",
      " [[26  4 26 14 14]\n",
      "  [23 13 13  9  1]]]\n",
      "[11 14  4]\n",
      "[[[ 1 14  8 19  2]\n",
      "  [14  1  1  2 24]]\n",
      "\n",
      " [[26  4 26 14 14]\n",
      "  [23 13 13  9  1]]]\n"
     ]
    }
   ],
   "source": [
    "array3DD= np.random.randint(1,30, (3,2,5))\n",
    "print(array3DD)\n",
    "\n",
    "print(array3DD[:,0,1])\n",
    "\n",
    "print(array3DD[1:, :, :])"
   ]
  },
  {
   "cell_type": "markdown",
   "id": "4fabd9d0",
   "metadata": {},
   "source": [
    "#### Ejercicio 8 - Genera un array tridimensional de dimensiones (4, 3, 2) con valores enteros del 1 al 24.\n",
    "\n",
    "- Cambia todos los elementos de la segunda fila del segundo array por `0`.\n",
    "\n",
    "- Cambia todos los valores del último array a `-1`.\n"
   ]
  },
  {
   "cell_type": "code",
   "execution_count": 128,
   "id": "0ef45b69",
   "metadata": {},
   "outputs": [
    {
     "name": "stdout",
     "output_type": "stream",
     "text": [
      "[[[ 4 17]\n",
      "  [16 14]\n",
      "  [22 13]]\n",
      "\n",
      " [[ 1 16]\n",
      "  [22 16]\n",
      "  [12  6]]\n",
      "\n",
      " [[19  6]\n",
      "  [19 22]\n",
      "  [16  9]]\n",
      "\n",
      " [[22 23]\n",
      "  [11  3]\n",
      "  [20  5]]]\n",
      "[[[ 4 17]\n",
      "  [16 14]\n",
      "  [22 13]]\n",
      "\n",
      " [[ 1 16]\n",
      "  [ 0  0]\n",
      "  [12  6]]\n",
      "\n",
      " [[19  6]\n",
      "  [19 22]\n",
      "  [16  9]]\n",
      "\n",
      " [[-1 -1]\n",
      "  [-1 -1]\n",
      "  [-1 -1]]]\n"
     ]
    }
   ],
   "source": [
    "array_3_D= np.random.randint(1,24, (4,3,2))\n",
    "print(array_3_D)\n",
    "array_3_D[1, 1, :] = 0\n",
    "array_3_D[3, :, :] = -1\n",
    "print(array_3_D)"
   ]
  },
  {
   "cell_type": "markdown",
   "id": "c60bc3bb",
   "metadata": {},
   "source": [
    "\n",
    "#### Ejercicio 9 - Genera un array tridimensional de dimensiones (2, 4, 3) con valores enteros del -10 al 13.\n",
    "\n",
    "- Selecciona todos los elementos mayores a `5`.\n",
    "\n",
    "- Reemplaza todos los elementos negativos por `0`.\n"
   ]
  },
  {
   "cell_type": "code",
   "execution_count": 140,
   "id": "28bf9232",
   "metadata": {},
   "outputs": [
    {
     "name": "stdout",
     "output_type": "stream",
     "text": [
      "\n",
      "[[[-10   7   6]\n",
      "  [ 10 -10 -10]\n",
      "  [ -4  12  -9]\n",
      "  [ -7  -2   5]]\n",
      "\n",
      " [[  4  -3  -6]\n",
      "  [ -7  -4  -8]\n",
      "  [  3  -9   8]\n",
      "  [  1   4   8]]]\n",
      "\n",
      "[ 7  6 10 12  8  8]\n",
      "\n",
      "[[[ 0  7  6]\n",
      "  [10  0  0]\n",
      "  [ 0 12  0]\n",
      "  [ 0  0  5]]\n",
      "\n",
      " [[ 4  0  0]\n",
      "  [ 0  0  0]\n",
      "  [ 3  0  8]\n",
      "  [ 1  4  8]]]\n"
     ]
    }
   ],
   "source": [
    "otro3D= np.random.randint(-10, 13, (2,4,3))\n",
    "print(f'\\n{otro3D}')             #Recuerda que hace falta la f para añadir espacios\n",
    "print(f\"\\n{otro3D[otro3D > 5]}\")\n",
    "otro3D[otro3D < 0] = 0\n",
    "print(f'\\n{otro3D}')"
   ]
  },
  {
   "cell_type": "markdown",
   "id": "ab38a3be",
   "metadata": {},
   "source": [
    "#### Ejercicio 10 - Genera un array tridimensional de dimensiones (3, 3, 3) con valores enteros del 1 al 27.\n",
    "\n",
    "- Selecciona el subarray del segundo array que contenga solo las dos primeras columnas.\n",
    "\n",
    "- Selecciona todos los elementos del tercer array que sean mayores que `20`.\n"
   ]
  },
  {
   "cell_type": "code",
   "execution_count": 152,
   "id": "78c979cf",
   "metadata": {},
   "outputs": [
    {
     "name": "stdout",
     "output_type": "stream",
     "text": [
      "\n",
      "[[[ 3 11  6]\n",
      "  [ 6 13 14]\n",
      "  [ 4 15 22]]\n",
      "\n",
      " [[25 19 14]\n",
      "  [13  6 23]\n",
      "  [ 5 17  6]]\n",
      "\n",
      " [[23 24  3]\n",
      "  [23  9 18]\n",
      "  [26  6  5]]]\n",
      "\n",
      "[[25 19]\n",
      " [13  6]\n",
      " [ 5 17]]\n"
     ]
    },
    {
     "data": {
      "text/plain": [
       "array([23, 24, 23, 26], dtype=int32)"
      ]
     },
     "execution_count": 152,
     "metadata": {},
     "output_type": "execute_result"
    }
   ],
   "source": [
    "otro3d= np.random.randint(1, 27, (3,3,3))\n",
    "print(f\"\\n{otro3d}\")\n",
    "print(f\"\\n{otro3d[1, :, :2]}\")\n",
    "\n",
    "tercer_array= otro3d[2, :, :]\n",
    "tercer_array[tercer_array > 20]\n"
   ]
  },
  {
   "cell_type": "markdown",
   "id": "f1a00156",
   "metadata": {},
   "source": [
    "#### Ejercicio 11 - Crea un array de 10 números aleatorios y reemplaza los valores máximos y mínimos por 0."
   ]
  },
  {
   "cell_type": "code",
   "execution_count": 210,
   "id": "e9ce3400",
   "metadata": {},
   "outputs": [
    {
     "name": "stdout",
     "output_type": "stream",
     "text": [
      "[ 7  2  8  8 28  7 28  6  4  6]\n",
      "[7 0 8 8 0 7 0 6 4 6]\n"
     ]
    }
   ],
   "source": [
    "numeros10= np.random.randint(1,30, 10)\n",
    "print(numeros10)\n",
    "min= numeros10[numeros10 == numeros10.min()] = 0\n",
    "max= numeros10[numeros10 == numeros10.max()] = 0\n",
    "\n",
    "numeros10[ (numeros10 == min) & (numeros10 == max)]\n",
    "print(numeros10)\n"
   ]
  },
  {
   "cell_type": "markdown",
   "id": "781fafd0",
   "metadata": {},
   "source": [
    "#### Ejercicio 12 - Genera un array de 15 números aleatorios enteros entre 1 y 100 y reordénalo en orden ascendente."
   ]
  },
  {
   "cell_type": "code",
   "execution_count": 196,
   "id": "caa4fd47",
   "metadata": {},
   "outputs": [
    {
     "data": {
      "text/plain": [
       "array([ 3, 11, 18, 31, 35, 35, 36, 37, 39, 63, 75, 91, 94, 99, 99],\n",
       "      dtype=int32)"
      ]
     },
     "execution_count": 196,
     "metadata": {},
     "output_type": "execute_result"
    }
   ],
   "source": [
    "quince= np.sort(np.random.randint(1,100, 15))\n",
    "quince"
   ]
  },
  {
   "cell_type": "markdown",
   "id": "45f10c3e",
   "metadata": {},
   "source": [
    "#### Ejercicio 11 - Calcula la suma de los elementos a lo largo de las filas y columnas en una matriz 4x4."
   ]
  },
  {
   "cell_type": "code",
   "execution_count": 205,
   "id": "90220788",
   "metadata": {},
   "outputs": [
    {
     "data": {
      "text/plain": [
       "np.int64(74)"
      ]
     },
     "execution_count": 205,
     "metadata": {},
     "output_type": "execute_result"
    }
   ],
   "source": [
    "matriz1= np.random.randint(1,10, (4,4))\n",
    "suma= np.sum(matriz1)\n",
    "suma"
   ]
  },
  {
   "cell_type": "markdown",
   "id": "69b9751a",
   "metadata": {},
   "source": [
    "#### Ejercicio 12 - Crea una matriz de 5x5 con valores en el borde igual a 1 y en el interior igual a 0."
   ]
  },
  {
   "cell_type": "code",
   "execution_count": 217,
   "id": "eca81323",
   "metadata": {},
   "outputs": [
    {
     "name": "stdout",
     "output_type": "stream",
     "text": [
      "[[1 6 6 6 1]\n",
      " [1 4 4 7 1]\n",
      " [1 4 4 5 1]\n",
      " [1 2 3 3 1]\n",
      " [1 2 3 6 1]]\n"
     ]
    }
   ],
   "source": [
    "matriz1= np.sort(np.random.randint(1,10, (5,5)))\n",
    "\n",
    "matriz1[:, 0] = 1\n",
    "matriz1[:, 4] = 1\n",
    "\n",
    "print(matriz1)"
   ]
  },
  {
   "cell_type": "markdown",
   "id": "1ea8068d",
   "metadata": {},
   "source": [
    "#### Ejercicio 13 - Calcula la media y la desviación estándar de un array de 10 números aleatorios."
   ]
  },
  {
   "cell_type": "code",
   "execution_count": 226,
   "id": "05dd579d",
   "metadata": {},
   "outputs": [
    {
     "name": "stdout",
     "output_type": "stream",
     "text": [
      "12.1\n",
      "6.35\n"
     ]
    }
   ],
   "source": [
    "media_desv= np.random.randint(1,20, 10)\n",
    "print(np.mean(media_desv))\n",
    "print(np.std(media_desv).round(2))"
   ]
  },
  {
   "cell_type": "markdown",
   "id": "6add6669",
   "metadata": {},
   "source": [
    "#### Ejercicio 14 - Genera un array tridimensional de dimensiones (2, 3, 4) con valores enteros del 1 al 24.\n",
    "\n",
    "- Transpón el array para intercambiar los ejes de la forma (2, 3, 4) a (4, 3, 2).\n",
    "\n",
    "- Observa cómo cambian las posiciones de los elementos y sus índices después de la transposición. Explica en una celda de markdown que es lo que ha pasado. \n"
   ]
  },
  {
   "cell_type": "code",
   "execution_count": 229,
   "id": "ae98aca5",
   "metadata": {},
   "outputs": [
    {
     "name": "stdout",
     "output_type": "stream",
     "text": [
      "[[[ 9 22  1  2]\n",
      "  [ 3 12 18 14]\n",
      "  [13 20  1 13]]\n",
      "\n",
      " [[ 5  2  7 22]\n",
      "  [21 12 12 12]\n",
      "  [ 1 21  7 11]]]\n"
     ]
    },
    {
     "data": {
      "text/plain": [
       "array([[[ 9,  5],\n",
       "        [ 3, 21],\n",
       "        [13,  1]],\n",
       "\n",
       "       [[22,  2],\n",
       "        [12, 12],\n",
       "        [20, 21]],\n",
       "\n",
       "       [[ 1,  7],\n",
       "        [18, 12],\n",
       "        [ 1,  7]],\n",
       "\n",
       "       [[ 2, 22],\n",
       "        [14, 12],\n",
       "        [13, 11]]], dtype=int32)"
      ]
     },
     "execution_count": 229,
     "metadata": {},
     "output_type": "execute_result"
    }
   ],
   "source": [
    "array_normal= np.random.randint(1,24, (2,3,4))\n",
    "print(array_normal)\n",
    "np.transpose(array_normal, (2, 1, 0 )) "
   ]
  },
  {
   "cell_type": "markdown",
   "id": "37217253",
   "metadata": {},
   "source": [
    "Lo que ha pasado es que se han hecho tantas matrices como columnas había y se han hecho tantas columnas como matrices había."
   ]
  },
  {
   "cell_type": "markdown",
   "id": "1e32b5e6",
   "metadata": {},
   "source": [
    "#### Ejercicio 15 - Genera un array tridimensional de dimensiones (3, 4, 2) con valores enteros del 1 al 24.\n",
    "\n",
    "- Transpón el array para intercambiar el primer y segundo eje, de manera que la nueva forma del array sea (4, 3, 2).\n"
   ]
  },
  {
   "cell_type": "code",
   "execution_count": 230,
   "id": "0146fdd6",
   "metadata": {},
   "outputs": [
    {
     "name": "stdout",
     "output_type": "stream",
     "text": [
      "[[[ 9  5]\n",
      "  [16 22]\n",
      "  [15 21]\n",
      "  [16  2]]\n",
      "\n",
      " [[12  9]\n",
      "  [10 12]\n",
      "  [17 11]\n",
      "  [21  2]]\n",
      "\n",
      " [[15  6]\n",
      "  [ 1  3]\n",
      "  [ 1  8]\n",
      "  [ 7 17]]]\n"
     ]
    },
    {
     "data": {
      "text/plain": [
       "array([[[ 9,  5],\n",
       "        [12,  9],\n",
       "        [15,  6]],\n",
       "\n",
       "       [[16, 22],\n",
       "        [10, 12],\n",
       "        [ 1,  3]],\n",
       "\n",
       "       [[15, 21],\n",
       "        [17, 11],\n",
       "        [ 1,  8]],\n",
       "\n",
       "       [[16,  2],\n",
       "        [21,  2],\n",
       "        [ 7, 17]]], dtype=int32)"
      ]
     },
     "execution_count": 230,
     "metadata": {},
     "output_type": "execute_result"
    }
   ],
   "source": [
    "array_normal= np.random.randint(1,24, (3,4,2))\n",
    "print(array_normal)\n",
    "np.transpose(array_normal, (1, 0, 2 )) "
   ]
  },
  {
   "cell_type": "markdown",
   "id": "fcf92586",
   "metadata": {},
   "source": [
    "#### Ejercicio 16 - Genera un array tridimensional de dimensiones (3, 2, 4) con valores enteros del 1 al 24.\n",
    "\n",
    "- Realiza una rotación completa de los ejes para convertir la forma original (3, 2, 4) en (4, 3, 2).\n"
   ]
  },
  {
   "cell_type": "code",
   "execution_count": 232,
   "id": "dd2c7f27",
   "metadata": {},
   "outputs": [
    {
     "name": "stdout",
     "output_type": "stream",
     "text": [
      "[[[13 17 15 14]\n",
      "  [ 6 14  7 23]]\n",
      "\n",
      " [[18 12 12 21]\n",
      "  [ 9 21 19 13]]\n",
      "\n",
      " [[11 15 21 12]\n",
      "  [11  3 21 19]]]\n"
     ]
    },
    {
     "data": {
      "text/plain": [
       "array([[[13,  6],\n",
       "        [18,  9],\n",
       "        [11, 11]],\n",
       "\n",
       "       [[17, 14],\n",
       "        [12, 21],\n",
       "        [15,  3]],\n",
       "\n",
       "       [[15,  7],\n",
       "        [12, 19],\n",
       "        [21, 21]],\n",
       "\n",
       "       [[14, 23],\n",
       "        [21, 13],\n",
       "        [12, 19]]], dtype=int32)"
      ]
     },
     "execution_count": 232,
     "metadata": {},
     "output_type": "execute_result"
    }
   ],
   "source": [
    "array_normal= np.random.randint(1,24, (3,2,4))\n",
    "print(array_normal)\n",
    "np.transpose(array_normal, (2, 0, 1 )) "
   ]
  },
  {
   "cell_type": "markdown",
   "id": "1795e11f",
   "metadata": {},
   "source": [
    "#### Ejercicio 17 - Manipulación de Arrays en 3D\n",
    "\n",
    "- Crea un array tridimensional con dimensiones (3, 4, 5) cuyos elementos sean números enteros aleatorios entre -10 y 10.\n",
    "\n",
    "- Crea un array vacío con la misma forma y dimensiones que el array creado anteriormente. Luego, reemplaza los valores de la matriz vacía basada en los valores del primer array bajo las siguientes condiciones:\n",
    "\n",
    "   - Si el valor es igual a la mediana, se reemplaza por `\"M\"`.\n",
    "\n",
    "   - Si el valor es mayor que la mediana, se reemplaza por `\"X\"`.\n",
    "\n",
    "   - Si el valor es menor que la mediana, se reemplaza por `\"Y\"`.\n",
    "\n",
    "   - Si el valor es igual al máximo, se reemplaza por `\"MAX\"`.\n",
    "\n",
    "   - Si el valor es igual al mínimo, se reemplaza por `\"MIN\"`.\n"
   ]
  },
  {
   "cell_type": "code",
   "execution_count": 264,
   "id": "d309b397",
   "metadata": {},
   "outputs": [
    {
     "name": "stdout",
     "output_type": "stream",
     "text": [
      "[[[  2   1   0  -6  -7]\n",
      "  [  0   0  -4   3   6]\n",
      "  [-10   2  -7   0   5]\n",
      "  [  7  -8  -1  -9   0]]\n",
      "\n",
      " [[  6   5  -4   0   8]\n",
      "  [ 10  -5  -7  -6   6]\n",
      "  [ -5  -1  -1  -2   2]\n",
      "  [ -7  -4  10  -2  10]]\n",
      "\n",
      " [[  6 -10   5  -8  -3]\n",
      "  [  3  -9   2   8   4]\n",
      "  [ -5   0   3 -10   6]\n",
      "  [ -4   1  -1   4   6]]]\n",
      "[[['X' 'X' 'M' 'Y' 'Y']\n",
      "  ['M' 'M' 'Y' 'X' 'X']\n",
      "  ['MIN' 'X' 'Y' 'M' 'X']\n",
      "  ['X' 'Y' 'Y' 'Y' 'M']]\n",
      "\n",
      " [['X' 'X' 'Y' 'M' 'X']\n",
      "  ['MAX' 'Y' 'Y' 'Y' 'X']\n",
      "  ['Y' 'Y' 'Y' 'Y' 'X']\n",
      "  ['Y' 'Y' 'MAX' 'Y' 'MAX']]\n",
      "\n",
      " [['X' 'MIN' 'X' 'Y' 'Y']\n",
      "  ['X' 'Y' 'X' 'X' 'X']\n",
      "  ['Y' 'M' 'X' 'MIN' 'X']\n",
      "  ['Y' 'X' 'Y' 'X' 'X']]]\n"
     ]
    }
   ],
   "source": [
    "array_normal= np.random.randint(-10,11, (3,4,5))\n",
    "array_vacio= np.empty((3,4,5), dtype= '<U100')\n",
    "mediana= np.median(array_normal) \n",
    "max= np.max(array_normal)\n",
    "min= np.min(array_normal) \n",
    "\n",
    " \n",
    "where_igual= np.where( array_normal == mediana )\n",
    "where_menor= np.where( (array_normal < mediana) & (array_normal > min) )\n",
    "where_mayor= np.where( (array_normal > mediana) & (array_normal < max))\n",
    "where_max= np.where( array_normal == max )\n",
    "where_min= np.where( array_normal == min )\n",
    "                           #Tengo los índices del array normal\n",
    "\n",
    "             #Tengo los números correspondientes\n",
    "\n",
    "array_vacio[ where_igual] = \"M\"\n",
    "array_vacio[where_mayor]= \"X\"\n",
    "array_vacio[where_menor] = \"Y\"\n",
    "array_vacio[where_max] = \"MAX\"\n",
    "array_vacio[where_min]= \"MIN\"\n",
    "\n",
    "print(array_normal)\n",
    "print(array_vacio)\n"
   ]
  },
  {
   "cell_type": "markdown",
   "id": "83794704",
   "metadata": {},
   "source": [
    "#### Ejercicio 18 - Verificación de Filas y Columnas Iguales\n",
    "\n",
    "Crea un array bidimensional de dimensiones 4x4, escribe un código para determinar si alguna fila es exactamente igual a alguna columna.\n",
    "\n",
    "**Reglas:**\n",
    "\n",
    "- No puedes usar funciones predefinidas de NumPy para comparar filas y columnas (`np.array_equal`, etc.).\n",
    "\n",
    "- Debes resolverlo con estructuras básicas de Python (bucles, condicionales, etc.).\n",
    "\n",
    "- Debes revisar si hay al menos una fila que coincida exactamente con alguna columna.\n",
    "\n",
    "**Pistas**:\n",
    "\n",
    "- Puedes recorrer cada fila y cada columna de la matriz usando bucles.\n",
    "\n",
    "- Para comparar una fila con una columna, puedes hacerlo elemento por elemento."
   ]
  },
  {
   "cell_type": "code",
   "execution_count": 358,
   "id": "07ef11e1",
   "metadata": {},
   "outputs": [
    {
     "name": "stdout",
     "output_type": "stream",
     "text": [
      "[[ 1  2  4 16]\n",
      " [11 19  7  4]\n",
      " [ 2 10 13  9]\n",
      " [14  6 19 16]]\n",
      "No hay ninguna fila que coincida exactamente con una columna.\n"
     ]
    }
   ],
   "source": [
    "\n",
    "\n",
    "array_normal= np.random.randint(1,20, (4,4))\n",
    "print(array_normal)\n",
    "\n",
    "coincide = False\n",
    "\n",
    "for i in range(4):   #i fila\n",
    "    for j in range(4):    #j columna\n",
    "        fila_columna_iguales = True\n",
    "        for k in range(4):      #k es el índice de los elementos\n",
    "            if array_normal[i][k] != array_normal[k][j]:\n",
    "                fila_columna_iguales = False\n",
    "                break        #Salimos del bucle si encontramos una diferencia \n",
    "                             \n",
    "        if fila_columna_iguales:\n",
    "            print(f\"La fila {i+1} es igual a la columna {j+1}.\")\n",
    "            coincide = True\n",
    "            break\n",
    "if not coincide:\n",
    "    print(\"No hay ninguna fila que coincida exactamente con una columna.\")\n"
   ]
  }
 ],
 "metadata": {
  "kernelspec": {
   "display_name": "Python 3",
   "language": "python",
   "name": "python3"
  },
  "language_info": {
   "codemirror_mode": {
    "name": "ipython",
    "version": 3
   },
   "file_extension": ".py",
   "mimetype": "text/x-python",
   "name": "python",
   "nbconvert_exporter": "python",
   "pygments_lexer": "ipython3",
   "version": "3.11.9"
  }
 },
 "nbformat": 4,
 "nbformat_minor": 5
}
